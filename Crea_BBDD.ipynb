{
 "cells": [
  {
   "cell_type": "markdown",
   "id": "1b1af68c-aaaf-4fbc-9ed1-3aaf4e1bf527",
   "metadata": {},
   "source": [
    "## Trabajo Financial Econometrics."
   ]
  },
  {
   "cell_type": "markdown",
   "id": "632233fc-ee99-4f79-a988-e62644616fc2",
   "metadata": {},
   "source": [
    "Creare la bbdd nomas"
   ]
  },
  {
   "cell_type": "code",
   "execution_count": 1,
   "id": "faadf443-b03a-4ba1-bf71-00f5423a0c0b",
   "metadata": {},
   "outputs": [],
   "source": [
    "## Library\n",
    "import yfinance as  yf\n",
    "import pandas as pd\n",
    "import numpy as np"
   ]
  },
  {
   "cell_type": "code",
   "execution_count": 2,
   "id": "795d1adc-d524-411e-b403-8e676a1a9258",
   "metadata": {},
   "outputs": [],
   "source": [
    "## Cencosud\n",
    "cenconsud=yf.Ticker(\"CENCOSUD.SN\")\n",
    "hist = cenconsud.history(period=\"max\")"
   ]
  },
  {
   "cell_type": "code",
   "execution_count": 4,
   "id": "97e31a00-d499-4d1a-b2cd-8c7423873a50",
   "metadata": {},
   "outputs": [],
   "source": [
    "hist_mensuales=pd.DataFrame(hist.reset_index().groupby(pd.Grouper(key='Date',freq = 'BM')).max().Close)"
   ]
  },
  {
   "cell_type": "code",
   "execution_count": 15,
   "id": "f3ade4db-1a4f-47b3-b8ed-d199a6837508",
   "metadata": {},
   "outputs": [],
   "source": [
    "## Macro desde el BC\n",
    "TC=pd.read_excel('MACRO/Cuadro_10072022171509.xlsx',header=2)\n",
    "IMACEC=pd.read_excel('MACRO/Cuadro_10072022171541.xlsx',header=2)\n",
    "BCP_10=pd.read_excel('MACRO/Cuadro_10072022171616.xlsx',header=2)\n",
    "IPC=pd.read_excel('MACRO/Cuadro_10072022171644.xlsx',header=2)\n",
    "IPSA=pd.read_excel('MACRO/Cuadro_10072022175636.xlsx',header=2)"
   ]
  },
  {
   "cell_type": "code",
   "execution_count": 17,
   "id": "56896639-a421-43be-bfee-8758a4d08011",
   "metadata": {},
   "outputs": [],
   "source": [
    "## Generamos el index\n",
    "TC['Date']=[f'{x.year}/{x.month}' for x in TC['Periodo']]\n",
    "IMACEC['Date']=[f'{x.year}/{x.month}' for x in IMACEC['Periodo']]\n",
    "BCP_10['Date']=[f'{x.year}/{x.month}' for x in BCP_10['Periodo']]\n",
    "IPC['Date']=[f'{x.year}/{x.month}' for x in IPC['Periodo']]\n",
    "IPSA['Date']=[f'{x.year}/{x.month}' for x in IPSA['Periodo']]\n",
    "#hist_mensuales['Date']=[f'{x.year}/{x.month}' for x in hist_mensuales.reset_index()['Date']]"
   ]
  },
  {
   "cell_type": "code",
   "execution_count": 18,
   "id": "e2f2f9ad-a9f9-44af-98b3-5d161c82fac7",
   "metadata": {},
   "outputs": [
    {
     "data": {
      "text/plain": [
       "Index(['Periodo', '1.IPSA  (índice enero 2003=1000)                      ',\n",
       "       'Date'],\n",
       "      dtype='object')"
      ]
     },
     "execution_count": 18,
     "metadata": {},
     "output_type": "execute_result"
    }
   ],
   "source": [
    "IPSA.columns"
   ]
  },
  {
   "cell_type": "code",
   "execution_count": 19,
   "id": "ea7f2df7-6378-4866-ba7b-14fd27317be5",
   "metadata": {},
   "outputs": [],
   "source": [
    "TC['TC']=TC['1.Tipo  de  cambio  nominal (dólar observado $/USD)        '].copy()\n",
    "IMACEC['IMACEC']=IMACEC['1.Imacec empalmado, desestacionalizado (índice 2018=100)'].copy()\n",
    "BCP_10['BCP_10']=BCP_10['1.Tasas BCP 10 años'].copy()\n",
    "IPC['IPC']=IPC['1.IPC General '].copy()\n",
    "IPSA['IPSA']=IPSA['1.IPSA  (índice enero 2003=1000)                      '].copy()"
   ]
  },
  {
   "cell_type": "code",
   "execution_count": 22,
   "id": "14d08729-3ac7-42a9-85d5-500426e99fa8",
   "metadata": {},
   "outputs": [],
   "source": [
    "## Nos quedaremos con el que tenga la minima fecha.\n",
    "df=pd.DataFrame(IPC.set_index('Date').IPC).merge(IMACEC.set_index('Date').IMACEC,how='inner',left_index=True, right_index=True)\\\n",
    ".merge(TC.set_index('Date').TC,how='inner',left_index=True, right_index=True)\\\n",
    ".merge(BCP_10.set_index('Date').BCP_10,how='inner',left_index=True, right_index=True)\\\n",
    ".merge(IPSA.set_index('Date').IPSA,how='inner',left_index=True, right_index=True)\\\n",
    ".merge(hist_mensuales.set_index('Date').Close,how='inner',left_index=True, right_index=True)"
   ]
  },
  {
   "cell_type": "code",
   "execution_count": 24,
   "id": "4d0958e3-d886-40a5-8acd-067e83a4053d",
   "metadata": {},
   "outputs": [],
   "source": [
    "df.to_excel('APT.xlsx')"
   ]
  },
  {
   "cell_type": "code",
   "execution_count": null,
   "id": "8249a0e0-59bc-421c-900d-c85212c4e5f7",
   "metadata": {},
   "outputs": [],
   "source": []
  }
 ],
 "metadata": {
  "kernelspec": {
   "display_name": "Python 3 (ipykernel)",
   "language": "python",
   "name": "python3"
  },
  "language_info": {
   "codemirror_mode": {
    "name": "ipython",
    "version": 3
   },
   "file_extension": ".py",
   "mimetype": "text/x-python",
   "name": "python",
   "nbconvert_exporter": "python",
   "pygments_lexer": "ipython3",
   "version": "3.9.7"
  }
 },
 "nbformat": 4,
 "nbformat_minor": 5
}
