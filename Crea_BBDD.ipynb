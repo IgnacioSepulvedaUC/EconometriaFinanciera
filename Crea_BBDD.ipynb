{
 "cells": [
  {
   "cell_type": "markdown",
   "id": "1b1af68c-aaaf-4fbc-9ed1-3aaf4e1bf527",
   "metadata": {},
   "source": [
    "## Trabajo Financial Econometrics."
   ]
  },
  {
   "cell_type": "markdown",
   "id": "632233fc-ee99-4f79-a988-e62644616fc2",
   "metadata": {},
   "source": [
    "Creare la bbdd nomas"
   ]
  },
  {
   "cell_type": "code",
   "execution_count": 1,
   "id": "faadf443-b03a-4ba1-bf71-00f5423a0c0b",
   "metadata": {},
   "outputs": [],
   "source": [
    "## Library\n",
    "import yfinance as  yf\n",
    "import pandas as pd\n",
    "import numpy as np"
   ]
  },
  {
   "cell_type": "code",
   "execution_count": 2,
   "id": "795d1adc-d524-411e-b403-8e676a1a9258",
   "metadata": {},
   "outputs": [],
   "source": [
    "## Cencosud\n",
    "cenconsud=yf.Ticker(\"CENCOSUD.SN\")\n",
    "hist = cenconsud.history(period=\"max\")"
   ]
  },
  {
   "cell_type": "code",
   "execution_count": 4,
   "id": "97e31a00-d499-4d1a-b2cd-8c7423873a50",
   "metadata": {},
   "outputs": [],
   "source": [
    "hist_mensuales=pd.DataFrame(hist.reset_index().groupby(pd.Grouper(key='Date',freq = 'BM')).max().Close)"
   ]
  },
  {
   "cell_type": "code",
   "execution_count": 15,
   "id": "f3ade4db-1a4f-47b3-b8ed-d199a6837508",
   "metadata": {},
   "outputs": [],
   "source": [
    "## Macro desde el BC\n",
    "TC=pd.read_excel('MACRO/Cuadro_10072022171509.xlsx',header=2)\n",
    "IMACEC=pd.read_excel('MACRO/Cuadro_10072022171541.xlsx',header=2)\n",
    "BCP_10=pd.read_excel('MACRO/Cuadro_10072022171616.xlsx',header=2)\n",
    "IPC=pd.read_excel('MACRO/Cuadro_10072022171644.xlsx',header=2)\n",
    "IPSA=pd.read_excel('MACRO/Cuadro_10072022175636.xlsx',header=2)"
   ]
  },
  {
   "cell_type": "code",
   "execution_count": 16,
   "id": "56896639-a421-43be-bfee-8758a4d08011",
   "metadata": {},
   "outputs": [
    {
     "ename": "ValueError",
     "evalue": "cannot insert Date, already exists",
     "output_type": "error",
     "traceback": [
      "\u001b[1;31m---------------------------------------------------------------------------\u001b[0m",
      "\u001b[1;31mValueError\u001b[0m                                Traceback (most recent call last)",
      "\u001b[1;32mC:\\Users\\IGNACI~1\\AppData\\Local\\Temp/ipykernel_8456/2883874733.py\u001b[0m in \u001b[0;36m<module>\u001b[1;34m\u001b[0m\n\u001b[0;32m      5\u001b[0m \u001b[0mIPC\u001b[0m\u001b[1;33m[\u001b[0m\u001b[1;34m'Date'\u001b[0m\u001b[1;33m]\u001b[0m\u001b[1;33m=\u001b[0m\u001b[1;33m[\u001b[0m\u001b[1;34mf'{x.year}/{x.month}'\u001b[0m \u001b[1;32mfor\u001b[0m \u001b[0mx\u001b[0m \u001b[1;32min\u001b[0m \u001b[0mIPC\u001b[0m\u001b[1;33m[\u001b[0m\u001b[1;34m'Periodo'\u001b[0m\u001b[1;33m]\u001b[0m\u001b[1;33m]\u001b[0m\u001b[1;33m\u001b[0m\u001b[1;33m\u001b[0m\u001b[0m\n\u001b[0;32m      6\u001b[0m \u001b[0mIPSA\u001b[0m\u001b[1;33m[\u001b[0m\u001b[1;34m'Date'\u001b[0m\u001b[1;33m]\u001b[0m\u001b[1;33m=\u001b[0m\u001b[1;33m[\u001b[0m\u001b[1;34mf'{x.year}/{x.month}'\u001b[0m \u001b[1;32mfor\u001b[0m \u001b[0mx\u001b[0m \u001b[1;32min\u001b[0m \u001b[0mIPSA\u001b[0m\u001b[1;33m[\u001b[0m\u001b[1;34m'Periodo'\u001b[0m\u001b[1;33m]\u001b[0m\u001b[1;33m]\u001b[0m\u001b[1;33m\u001b[0m\u001b[1;33m\u001b[0m\u001b[0m\n\u001b[1;32m----> 7\u001b[1;33m \u001b[0mhist_mensuales\u001b[0m\u001b[1;33m[\u001b[0m\u001b[1;34m'Date'\u001b[0m\u001b[1;33m]\u001b[0m\u001b[1;33m=\u001b[0m\u001b[1;33m[\u001b[0m\u001b[1;34mf'{x.year}/{x.month}'\u001b[0m \u001b[1;32mfor\u001b[0m \u001b[0mx\u001b[0m \u001b[1;32min\u001b[0m \u001b[0mhist_mensuales\u001b[0m\u001b[1;33m.\u001b[0m\u001b[0mreset_index\u001b[0m\u001b[1;33m(\u001b[0m\u001b[1;33m)\u001b[0m\u001b[1;33m[\u001b[0m\u001b[1;34m'Date'\u001b[0m\u001b[1;33m]\u001b[0m\u001b[1;33m]\u001b[0m\u001b[1;33m\u001b[0m\u001b[1;33m\u001b[0m\u001b[0m\n\u001b[0m",
      "\u001b[1;32m~\\anaconda3\\lib\\site-packages\\pandas\\util\\_decorators.py\u001b[0m in \u001b[0;36mwrapper\u001b[1;34m(*args, **kwargs)\u001b[0m\n\u001b[0;32m    309\u001b[0m                     \u001b[0mstacklevel\u001b[0m\u001b[1;33m=\u001b[0m\u001b[0mstacklevel\u001b[0m\u001b[1;33m,\u001b[0m\u001b[1;33m\u001b[0m\u001b[1;33m\u001b[0m\u001b[0m\n\u001b[0;32m    310\u001b[0m                 )\n\u001b[1;32m--> 311\u001b[1;33m             \u001b[1;32mreturn\u001b[0m \u001b[0mfunc\u001b[0m\u001b[1;33m(\u001b[0m\u001b[1;33m*\u001b[0m\u001b[0margs\u001b[0m\u001b[1;33m,\u001b[0m \u001b[1;33m**\u001b[0m\u001b[0mkwargs\u001b[0m\u001b[1;33m)\u001b[0m\u001b[1;33m\u001b[0m\u001b[1;33m\u001b[0m\u001b[0m\n\u001b[0m\u001b[0;32m    312\u001b[0m \u001b[1;33m\u001b[0m\u001b[0m\n\u001b[0;32m    313\u001b[0m         \u001b[1;32mreturn\u001b[0m \u001b[0mwrapper\u001b[0m\u001b[1;33m\u001b[0m\u001b[1;33m\u001b[0m\u001b[0m\n",
      "\u001b[1;32m~\\anaconda3\\lib\\site-packages\\pandas\\core\\frame.py\u001b[0m in \u001b[0;36mreset_index\u001b[1;34m(self, level, drop, inplace, col_level, col_fill)\u001b[0m\n\u001b[0;32m   5797\u001b[0m                     )\n\u001b[0;32m   5798\u001b[0m \u001b[1;33m\u001b[0m\u001b[0m\n\u001b[1;32m-> 5799\u001b[1;33m                 \u001b[0mnew_obj\u001b[0m\u001b[1;33m.\u001b[0m\u001b[0minsert\u001b[0m\u001b[1;33m(\u001b[0m\u001b[1;36m0\u001b[0m\u001b[1;33m,\u001b[0m \u001b[0mname\u001b[0m\u001b[1;33m,\u001b[0m \u001b[0mlevel_values\u001b[0m\u001b[1;33m)\u001b[0m\u001b[1;33m\u001b[0m\u001b[1;33m\u001b[0m\u001b[0m\n\u001b[0m\u001b[0;32m   5800\u001b[0m \u001b[1;33m\u001b[0m\u001b[0m\n\u001b[0;32m   5801\u001b[0m         \u001b[0mnew_obj\u001b[0m\u001b[1;33m.\u001b[0m\u001b[0mindex\u001b[0m \u001b[1;33m=\u001b[0m \u001b[0mnew_index\u001b[0m\u001b[1;33m\u001b[0m\u001b[1;33m\u001b[0m\u001b[0m\n",
      "\u001b[1;32m~\\anaconda3\\lib\\site-packages\\pandas\\core\\frame.py\u001b[0m in \u001b[0;36minsert\u001b[1;34m(self, loc, column, value, allow_duplicates)\u001b[0m\n\u001b[0;32m   4412\u001b[0m         \u001b[1;32mif\u001b[0m \u001b[1;32mnot\u001b[0m \u001b[0mallow_duplicates\u001b[0m \u001b[1;32mand\u001b[0m \u001b[0mcolumn\u001b[0m \u001b[1;32min\u001b[0m \u001b[0mself\u001b[0m\u001b[1;33m.\u001b[0m\u001b[0mcolumns\u001b[0m\u001b[1;33m:\u001b[0m\u001b[1;33m\u001b[0m\u001b[1;33m\u001b[0m\u001b[0m\n\u001b[0;32m   4413\u001b[0m             \u001b[1;31m# Should this be a different kind of error??\u001b[0m\u001b[1;33m\u001b[0m\u001b[1;33m\u001b[0m\u001b[0m\n\u001b[1;32m-> 4414\u001b[1;33m             \u001b[1;32mraise\u001b[0m \u001b[0mValueError\u001b[0m\u001b[1;33m(\u001b[0m\u001b[1;34mf\"cannot insert {column}, already exists\"\u001b[0m\u001b[1;33m)\u001b[0m\u001b[1;33m\u001b[0m\u001b[1;33m\u001b[0m\u001b[0m\n\u001b[0m\u001b[0;32m   4415\u001b[0m         \u001b[1;32mif\u001b[0m \u001b[1;32mnot\u001b[0m \u001b[0misinstance\u001b[0m\u001b[1;33m(\u001b[0m\u001b[0mloc\u001b[0m\u001b[1;33m,\u001b[0m \u001b[0mint\u001b[0m\u001b[1;33m)\u001b[0m\u001b[1;33m:\u001b[0m\u001b[1;33m\u001b[0m\u001b[1;33m\u001b[0m\u001b[0m\n\u001b[0;32m   4416\u001b[0m             \u001b[1;32mraise\u001b[0m \u001b[0mTypeError\u001b[0m\u001b[1;33m(\u001b[0m\u001b[1;34m\"loc must be int\"\u001b[0m\u001b[1;33m)\u001b[0m\u001b[1;33m\u001b[0m\u001b[1;33m\u001b[0m\u001b[0m\n",
      "\u001b[1;31mValueError\u001b[0m: cannot insert Date, already exists"
     ]
    }
   ],
   "source": [
    "## Generamos el index\n",
    "TC['Date']=[f'{x.year}/{x.month}' for x in TC['Periodo']]\n",
    "IMACEC['Date']=[f'{x.year}/{x.month}' for x in IMACEC['Periodo']]\n",
    "BCP_10['Date']=[f'{x.year}/{x.month}' for x in BCP_10['Periodo']]\n",
    "IPC['Date']=[f'{x.year}/{x.month}' for x in IPC['Periodo']]\n",
    "IPSA['Date']=[f'{x.year}/{x.month}' for x in IPSA['Periodo']]\n",
    "hist_mensuales['Date']=[f'{x.year}/{x.month}' for x in hist_mensuales.reset_index()['Date']]"
   ]
  },
  {
   "cell_type": "code",
   "execution_count": null,
   "id": "e2f2f9ad-a9f9-44af-98b3-5d161c82fac7",
   "metadata": {},
   "outputs": [],
   "source": [
    "IPSA.columns"
   ]
  },
  {
   "cell_type": "code",
   "execution_count": 7,
   "id": "ea7f2df7-6378-4866-ba7b-14fd27317be5",
   "metadata": {},
   "outputs": [],
   "source": [
    "TC['TC']=TC['1.Tipo  de  cambio  nominal (dólar observado $/USD)        '].copy()\n",
    "IMACEC['IMACEC']=IMACEC['1.Imacec empalmado, desestacionalizado (índice 2018=100)'].copy()\n",
    "BCP_10['BCP_10']=BCP_10['1.Tasas BCP 10 años'].copy()\n",
    "IPC['IPC']=IPC['1.IPC General '].copy()\n",
    "IPC['IPC']=IPC['1.IPC General '].copy()"
   ]
  },
  {
   "cell_type": "code",
   "execution_count": 9,
   "id": "14d08729-3ac7-42a9-85d5-500426e99fa8",
   "metadata": {},
   "outputs": [],
   "source": [
    "## Nos quedaremos con el que tenga la minima fecha.\n",
    "df=pd.DataFrame(IPC.set_index('Date').IPC).merge(IMACEC.set_index('Date').IMACEC,how='inner',left_index=True, right_index=True)\\\n",
    ".merge(TC.set_index('Date').TC,how='inner',left_index=True, right_index=True)\\\n",
    ".merge(BCP_10.set_index('Date').BCP_10,how='inner',left_index=True, right_index=True)\\\n",
    ".merge(hist_mensuales.set_index('Date').Close,how='inner',left_index=True, right_index=True)\\"
   ]
  },
  {
   "cell_type": "code",
   "execution_count": 14,
   "id": "ab8b43b5-d720-4ccb-a9e0-20e46f8341c1",
   "metadata": {},
   "outputs": [
    {
     "data": {
      "text/html": [
       "<div>\n",
       "<style scoped>\n",
       "    .dataframe tbody tr th:only-of-type {\n",
       "        vertical-align: middle;\n",
       "    }\n",
       "\n",
       "    .dataframe tbody tr th {\n",
       "        vertical-align: top;\n",
       "    }\n",
       "\n",
       "    .dataframe thead th {\n",
       "        text-align: right;\n",
       "    }\n",
       "</style>\n",
       "<table border=\"1\" class=\"dataframe\">\n",
       "  <thead>\n",
       "    <tr style=\"text-align: right;\">\n",
       "      <th></th>\n",
       "      <th>Open</th>\n",
       "      <th>High</th>\n",
       "      <th>Low</th>\n",
       "      <th>Close</th>\n",
       "      <th>Volume</th>\n",
       "      <th>Dividends</th>\n",
       "      <th>Stock Splits</th>\n",
       "    </tr>\n",
       "    <tr>\n",
       "      <th>Date</th>\n",
       "      <th></th>\n",
       "      <th></th>\n",
       "      <th></th>\n",
       "      <th></th>\n",
       "      <th></th>\n",
       "      <th></th>\n",
       "      <th></th>\n",
       "    </tr>\n",
       "  </thead>\n",
       "  <tbody>\n",
       "    <tr>\n",
       "      <th>2022-07-08</th>\n",
       "      <td>5101.419922</td>\n",
       "      <td>5118.549805</td>\n",
       "      <td>5074.100098</td>\n",
       "      <td>5112.779785</td>\n",
       "      <td>1082337285</td>\n",
       "      <td>0</td>\n",
       "      <td>0</td>\n",
       "    </tr>\n",
       "  </tbody>\n",
       "</table>\n",
       "</div>"
      ],
      "text/plain": [
       "                   Open         High          Low        Close      Volume  \\\n",
       "Date                                                                         \n",
       "2022-07-08  5101.419922  5118.549805  5074.100098  5112.779785  1082337285   \n",
       "\n",
       "            Dividends  Stock Splits  \n",
       "Date                                 \n",
       "2022-07-08          0             0  "
      ]
     },
     "execution_count": 14,
     "metadata": {},
     "output_type": "execute_result"
    }
   ],
   "source": [
    "hist_ipsa"
   ]
  },
  {
   "cell_type": "code",
   "execution_count": 10,
   "id": "4d0958e3-d886-40a5-8acd-067e83a4053d",
   "metadata": {},
   "outputs": [],
   "source": [
    "df.to_excel('APT.xlsx')"
   ]
  },
  {
   "cell_type": "code",
   "execution_count": null,
   "id": "8249a0e0-59bc-421c-900d-c85212c4e5f7",
   "metadata": {},
   "outputs": [],
   "source": []
  }
 ],
 "metadata": {
  "kernelspec": {
   "display_name": "Python 3 (ipykernel)",
   "language": "python",
   "name": "python3"
  },
  "language_info": {
   "codemirror_mode": {
    "name": "ipython",
    "version": 3
   },
   "file_extension": ".py",
   "mimetype": "text/x-python",
   "name": "python",
   "nbconvert_exporter": "python",
   "pygments_lexer": "ipython3",
   "version": "3.9.7"
  }
 },
 "nbformat": 4,
 "nbformat_minor": 5
}
