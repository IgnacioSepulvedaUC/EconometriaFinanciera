{
 "cells": [
  {
   "cell_type": "markdown",
   "id": "1b1af68c-aaaf-4fbc-9ed1-3aaf4e1bf527",
   "metadata": {},
   "source": [
    "## Trabajo Financial Econometrics."
   ]
  },
  {
   "cell_type": "markdown",
   "id": "632233fc-ee99-4f79-a988-e62644616fc2",
   "metadata": {},
   "source": [
    "Creare la bbdd nomas"
   ]
  },
  {
   "cell_type": "code",
   "execution_count": 2,
   "id": "faadf443-b03a-4ba1-bf71-00f5423a0c0b",
   "metadata": {},
   "outputs": [],
   "source": [
    "## Library\n",
    "import yfinance as  yf\n",
    "import pandas as pd\n",
    "import numpy as np"
   ]
  },
  {
   "cell_type": "code",
   "execution_count": 4,
   "id": "783c461d-6e6f-4ff4-9e20-250e1bb9a987",
   "metadata": {},
   "outputs": [],
   "source": [
    "## Cencosud\n",
    "cenconsud=yf.Ticker(\"CENCOSUD.SN\")\n",
    "hist = cenconsud.history(period=\"max\")\n",
    "retornos=pd.DataFrame({'cencosud_log_rt':hist.Close.transform(lambda x: np.log(x/x.shift(1)))}).dropna()\n",
    "retornos_mensuales=retornos.reset_index().groupby(pd.Grouper(key='Date',freq = 'BM')).sum()"
   ]
  },
  {
   "cell_type": "code",
   "execution_count": 22,
   "id": "f3ade4db-1a4f-47b3-b8ed-d199a6837508",
   "metadata": {},
   "outputs": [],
   "source": [
    "## Macro desde el BC\n",
    "TC=pd.read_excel('MACRO/Cuadro_10072022171509.xlsx',header=2)\n",
    "IMACEC=pd.read_excel('MACRO/Cuadro_10072022171541.xlsx',header=2)\n",
    "BCP_10=pd.read_excel('MACRO/Cuadro_10072022171616.xlsx',header=2)\n",
    "IPC=pd.read_excel('MACRO/Cuadro_10072022171644.xlsx',header=2)"
   ]
  },
  {
   "cell_type": "code",
   "execution_count": 48,
   "id": "56896639-a421-43be-bfee-8758a4d08011",
   "metadata": {},
   "outputs": [],
   "source": [
    "## Generamos el index\n",
    "TC['Date']=[f'{x.year}/{x.month}' for x in TC['Periodo']]\n",
    "IMACEC['Date']=[f'{x.year}/{x.month}' for x in IMACEC['Periodo']]\n",
    "BCP_10['Date']=[f'{x.year}/{x.month}' for x in BCP_10['Periodo']]\n",
    "IPC['Date']=[f'{x.year}/{x.month}' for x in IPC['Periodo']]\n",
    "retornos_mensuales['Date']=[f'{x.year}/{x.month}' for x in retornos_mensuales.reset_index()['Date']]"
   ]
  },
  {
   "cell_type": "code",
   "execution_count": 52,
   "id": "c06e2dc9-85fb-46b0-8077-7990a44ad3b7",
   "metadata": {},
   "outputs": [
    {
     "data": {
      "text/plain": [
       "Index(['Periodo', '1.IPC General ', 'Date'], dtype='object')"
      ]
     },
     "execution_count": 52,
     "metadata": {},
     "output_type": "execute_result"
    }
   ],
   "source": [
    "IPC.columns"
   ]
  },
  {
   "cell_type": "code",
   "execution_count": 53,
   "id": "ea7f2df7-6378-4866-ba7b-14fd27317be5",
   "metadata": {},
   "outputs": [],
   "source": [
    "TC['TC']=TC['1.Tipo  de  cambio  nominal (dólar observado $/USD)        '].copy()\n",
    "IMACEC['IMACEC']=IMACEC['1.Imacec empalmado, desestacionalizado (índice 2018=100)'].copy()\n",
    "BCP_10['BCP_10']=BCP_10['1.Tasas BCP 10 años'].copy()\n",
    "IPC['IPC']=IPC['1.IPC General '].copy()"
   ]
  },
  {
   "cell_type": "code",
   "execution_count": 60,
   "id": "21a35212-7400-43e7-8abd-b36d2cdebff2",
   "metadata": {},
   "outputs": [
    {
     "data": {
      "text/plain": [
       "Date\n",
       "2000-01-31    2000/1\n",
       "2000-02-29    2000/2\n",
       "2000-03-31    2000/3\n",
       "2000-04-28    2000/4\n",
       "2000-05-31    2000/5\n",
       "               ...  \n",
       "2022-03-31    2022/3\n",
       "2022-04-29    2022/4\n",
       "2022-05-31    2022/5\n",
       "2022-06-30    2022/6\n",
       "2022-07-29    2022/7\n",
       "Freq: BM, Name: Date, Length: 271, dtype: object"
      ]
     },
     "execution_count": 60,
     "metadata": {},
     "output_type": "execute_result"
    }
   ],
   "source": [
    "retornos_mensuales.Date"
   ]
  },
  {
   "cell_type": "code",
   "execution_count": 73,
   "id": "14d08729-3ac7-42a9-85d5-500426e99fa8",
   "metadata": {},
   "outputs": [],
   "source": [
    "## Nos quedaremos con el que tenga la minima fecha.\n",
    "df=pd.DataFrame(IPC.set_index('Date').IPC).merge(IMACEC.set_index('Date').IMACEC,how='inner',left_index=True, right_index=True)\\\n",
    ".merge(TC.set_index('Date').TC,how='inner',left_index=True, right_index=True)\\\n",
    ".merge(BCP_10.set_index('Date').BCP_10,how='inner',left_index=True, right_index=True)\\\n",
    ".merge(retornos_mensuales.set_index('Date').cencosud_log_rt,how='inner',left_index=True, right_index=True)"
   ]
  },
  {
   "cell_type": "code",
   "execution_count": 74,
   "id": "6968d648-b0f0-4ae4-8760-bebeae83fe05",
   "metadata": {},
   "outputs": [
    {
     "data": {
      "text/html": [
       "<div>\n",
       "<style scoped>\n",
       "    .dataframe tbody tr th:only-of-type {\n",
       "        vertical-align: middle;\n",
       "    }\n",
       "\n",
       "    .dataframe tbody tr th {\n",
       "        vertical-align: top;\n",
       "    }\n",
       "\n",
       "    .dataframe thead th {\n",
       "        text-align: right;\n",
       "    }\n",
       "</style>\n",
       "<table border=\"1\" class=\"dataframe\">\n",
       "  <thead>\n",
       "    <tr style=\"text-align: right;\">\n",
       "      <th></th>\n",
       "      <th>IPC</th>\n",
       "      <th>IMACEC</th>\n",
       "      <th>TC</th>\n",
       "      <th>BCP_10</th>\n",
       "      <th>cencosud_log_rt</th>\n",
       "    </tr>\n",
       "    <tr>\n",
       "      <th>Date</th>\n",
       "      <th></th>\n",
       "      <th></th>\n",
       "      <th></th>\n",
       "      <th></th>\n",
       "      <th></th>\n",
       "    </tr>\n",
       "  </thead>\n",
       "  <tbody>\n",
       "    <tr>\n",
       "      <th>2022/1</th>\n",
       "      <td>1.2</td>\n",
       "      <td>108.796425</td>\n",
       "      <td>822.050000</td>\n",
       "      <td>5.886167</td>\n",
       "      <td>0.034418</td>\n",
       "    </tr>\n",
       "    <tr>\n",
       "      <th>2022/2</th>\n",
       "      <td>0.3</td>\n",
       "      <td>108.256512</td>\n",
       "      <td>807.068000</td>\n",
       "      <td>5.818815</td>\n",
       "      <td>-0.003328</td>\n",
       "    </tr>\n",
       "    <tr>\n",
       "      <th>2022/3</th>\n",
       "      <td>1.9</td>\n",
       "      <td>109.820296</td>\n",
       "      <td>799.187391</td>\n",
       "      <td>6.103209</td>\n",
       "      <td>0.052993</td>\n",
       "    </tr>\n",
       "    <tr>\n",
       "      <th>2022/4</th>\n",
       "      <td>1.4</td>\n",
       "      <td>109.471282</td>\n",
       "      <td>815.123000</td>\n",
       "      <td>6.531166</td>\n",
       "      <td>-0.040148</td>\n",
       "    </tr>\n",
       "    <tr>\n",
       "      <th>2022/5</th>\n",
       "      <td>1.2</td>\n",
       "      <td>109.400399</td>\n",
       "      <td>849.390000</td>\n",
       "      <td>6.617833</td>\n",
       "      <td>-0.033220</td>\n",
       "    </tr>\n",
       "  </tbody>\n",
       "</table>\n",
       "</div>"
      ],
      "text/plain": [
       "        IPC      IMACEC          TC    BCP_10  cencosud_log_rt\n",
       "Date                                                          \n",
       "2022/1  1.2  108.796425  822.050000  5.886167         0.034418\n",
       "2022/2  0.3  108.256512  807.068000  5.818815        -0.003328\n",
       "2022/3  1.9  109.820296  799.187391  6.103209         0.052993\n",
       "2022/4  1.4  109.471282  815.123000  6.531166        -0.040148\n",
       "2022/5  1.2  109.400399  849.390000  6.617833        -0.033220"
      ]
     },
     "execution_count": 74,
     "metadata": {},
     "output_type": "execute_result"
    }
   ],
   "source": [
    "df.tail()"
   ]
  }
 ],
 "metadata": {
  "kernelspec": {
   "display_name": "Python 3 (ipykernel)",
   "language": "python",
   "name": "python3"
  },
  "language_info": {
   "codemirror_mode": {
    "name": "ipython",
    "version": 3
   },
   "file_extension": ".py",
   "mimetype": "text/x-python",
   "name": "python",
   "nbconvert_exporter": "python",
   "pygments_lexer": "ipython3",
   "version": "3.9.7"
  }
 },
 "nbformat": 4,
 "nbformat_minor": 5
}
